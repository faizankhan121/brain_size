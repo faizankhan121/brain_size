{
 "cells": [
  {
   "cell_type": "code",
   "execution_count": 1,
   "id": "b030f30d",
   "metadata": {},
   "outputs": [],
   "source": [
    "import pandas as pd\n",
    "import numpy as np\n",
    "import matplotlib.pyplot as plt\n",
    "%matplotlib inline"
   ]
  },
  {
   "cell_type": "code",
   "execution_count": 2,
   "id": "fb4fe6e7",
   "metadata": {},
   "outputs": [
    {
     "data": {
      "text/html": [
       "<div>\n",
       "<style scoped>\n",
       "    .dataframe tbody tr th:only-of-type {\n",
       "        vertical-align: middle;\n",
       "    }\n",
       "\n",
       "    .dataframe tbody tr th {\n",
       "        vertical-align: top;\n",
       "    }\n",
       "\n",
       "    .dataframe thead th {\n",
       "        text-align: right;\n",
       "    }\n",
       "</style>\n",
       "<table border=\"1\" class=\"dataframe\">\n",
       "  <thead>\n",
       "    <tr style=\"text-align: right;\">\n",
       "      <th></th>\n",
       "      <th>Gender</th>\n",
       "      <th>Age Range</th>\n",
       "      <th>Head Size(cm^3)</th>\n",
       "      <th>Brain Weight(grams)</th>\n",
       "    </tr>\n",
       "  </thead>\n",
       "  <tbody>\n",
       "    <tr>\n",
       "      <th>0</th>\n",
       "      <td>1</td>\n",
       "      <td>1</td>\n",
       "      <td>4512</td>\n",
       "      <td>1530</td>\n",
       "    </tr>\n",
       "    <tr>\n",
       "      <th>1</th>\n",
       "      <td>1</td>\n",
       "      <td>1</td>\n",
       "      <td>3738</td>\n",
       "      <td>1297</td>\n",
       "    </tr>\n",
       "    <tr>\n",
       "      <th>2</th>\n",
       "      <td>1</td>\n",
       "      <td>1</td>\n",
       "      <td>4261</td>\n",
       "      <td>1335</td>\n",
       "    </tr>\n",
       "    <tr>\n",
       "      <th>3</th>\n",
       "      <td>1</td>\n",
       "      <td>1</td>\n",
       "      <td>3777</td>\n",
       "      <td>1282</td>\n",
       "    </tr>\n",
       "    <tr>\n",
       "      <th>4</th>\n",
       "      <td>1</td>\n",
       "      <td>1</td>\n",
       "      <td>4177</td>\n",
       "      <td>1590</td>\n",
       "    </tr>\n",
       "  </tbody>\n",
       "</table>\n",
       "</div>"
      ],
      "text/plain": [
       "   Gender  Age Range  Head Size(cm^3)  Brain Weight(grams)\n",
       "0       1          1             4512                 1530\n",
       "1       1          1             3738                 1297\n",
       "2       1          1             4261                 1335\n",
       "3       1          1             3777                 1282\n",
       "4       1          1             4177                 1590"
      ]
     },
     "execution_count": 2,
     "metadata": {},
     "output_type": "execute_result"
    }
   ],
   "source": [
    "data = pd.read_csv('https://raw.githubusercontent.com/RupeshMohan/Linear_Regression/master/headbrain.csv')\n",
    "data.head()"
   ]
  },
  {
   "cell_type": "code",
   "execution_count": 3,
   "id": "386b2c53",
   "metadata": {},
   "outputs": [],
   "source": [
    "X = data[\"Head Size(cm^3)\"].values.reshape(-1,1)\n",
    "Y = data[\"Brain Weight(grams)\"].values.reshape(-1,1)"
   ]
  },
  {
   "cell_type": "code",
   "execution_count": 4,
   "id": "c5144055",
   "metadata": {},
   "outputs": [
    {
     "data": {
      "text/plain": [
       "((237, 1), (237, 1))"
      ]
     },
     "execution_count": 4,
     "metadata": {},
     "output_type": "execute_result"
    }
   ],
   "source": [
    "X.shape,Y.shape"
   ]
  },
  {
   "cell_type": "code",
   "execution_count": 5,
   "id": "ff67cd9b",
   "metadata": {},
   "outputs": [
    {
     "data": {
      "text/plain": [
       "Gender                 0\n",
       "Age Range              0\n",
       "Head Size(cm^3)        0\n",
       "Brain Weight(grams)    0\n",
       "dtype: int64"
      ]
     },
     "execution_count": 5,
     "metadata": {},
     "output_type": "execute_result"
    }
   ],
   "source": [
    "data.isnull().sum()"
   ]
  },
  {
   "cell_type": "code",
   "execution_count": 29,
   "id": "71e22aa6",
   "metadata": {},
   "outputs": [
    {
     "name": "stdout",
     "output_type": "stream",
     "text": [
      "[0.35154796] [9.7312315e-05]\n"
     ]
    }
   ],
   "source": [
    "m = 0\n",
    "c = 0\n",
    "L =  0.000000001\n",
    "n = len(X)\n",
    "for i in range(n):\n",
    "    y_pred = m*X + c\n",
    "    D_m = (-2/n)* sum(X*(Y-y_pred))\n",
    "    D_c = (-2/n)* sum(Y-y_pred)\n",
    "    m = m-L*D_m\n",
    "    c = c-L*D_c\n",
    "print(m,c)"
   ]
  },
  {
   "cell_type": "code",
   "execution_count": 30,
   "id": "a9fe7437",
   "metadata": {},
   "outputs": [],
   "source": [
    "y_pred = m*X+c\n"
   ]
  },
  {
   "cell_type": "code",
   "execution_count": 31,
   "id": "a156f660",
   "metadata": {},
   "outputs": [],
   "source": [
    "from sklearn.model_selection import train_test_split\n",
    "X_train, X_test, y_train, y_test = train_test_split(X, Y, test_size = 0.2,random_state=42)"
   ]
  },
  {
   "cell_type": "code",
   "execution_count": 32,
   "id": "efddacf8",
   "metadata": {},
   "outputs": [],
   "source": [
    "from sklearn.linear_model import LinearRegression\n",
    "reg = LinearRegression()"
   ]
  },
  {
   "cell_type": "code",
   "execution_count": 33,
   "id": "27935e6d",
   "metadata": {},
   "outputs": [
    {
     "data": {
      "text/html": [
       "<style>#sk-container-id-3 {color: black;background-color: white;}#sk-container-id-3 pre{padding: 0;}#sk-container-id-3 div.sk-toggleable {background-color: white;}#sk-container-id-3 label.sk-toggleable__label {cursor: pointer;display: block;width: 100%;margin-bottom: 0;padding: 0.3em;box-sizing: border-box;text-align: center;}#sk-container-id-3 label.sk-toggleable__label-arrow:before {content: \"▸\";float: left;margin-right: 0.25em;color: #696969;}#sk-container-id-3 label.sk-toggleable__label-arrow:hover:before {color: black;}#sk-container-id-3 div.sk-estimator:hover label.sk-toggleable__label-arrow:before {color: black;}#sk-container-id-3 div.sk-toggleable__content {max-height: 0;max-width: 0;overflow: hidden;text-align: left;background-color: #f0f8ff;}#sk-container-id-3 div.sk-toggleable__content pre {margin: 0.2em;color: black;border-radius: 0.25em;background-color: #f0f8ff;}#sk-container-id-3 input.sk-toggleable__control:checked~div.sk-toggleable__content {max-height: 200px;max-width: 100%;overflow: auto;}#sk-container-id-3 input.sk-toggleable__control:checked~label.sk-toggleable__label-arrow:before {content: \"▾\";}#sk-container-id-3 div.sk-estimator input.sk-toggleable__control:checked~label.sk-toggleable__label {background-color: #d4ebff;}#sk-container-id-3 div.sk-label input.sk-toggleable__control:checked~label.sk-toggleable__label {background-color: #d4ebff;}#sk-container-id-3 input.sk-hidden--visually {border: 0;clip: rect(1px 1px 1px 1px);clip: rect(1px, 1px, 1px, 1px);height: 1px;margin: -1px;overflow: hidden;padding: 0;position: absolute;width: 1px;}#sk-container-id-3 div.sk-estimator {font-family: monospace;background-color: #f0f8ff;border: 1px dotted black;border-radius: 0.25em;box-sizing: border-box;margin-bottom: 0.5em;}#sk-container-id-3 div.sk-estimator:hover {background-color: #d4ebff;}#sk-container-id-3 div.sk-parallel-item::after {content: \"\";width: 100%;border-bottom: 1px solid gray;flex-grow: 1;}#sk-container-id-3 div.sk-label:hover label.sk-toggleable__label {background-color: #d4ebff;}#sk-container-id-3 div.sk-serial::before {content: \"\";position: absolute;border-left: 1px solid gray;box-sizing: border-box;top: 0;bottom: 0;left: 50%;z-index: 0;}#sk-container-id-3 div.sk-serial {display: flex;flex-direction: column;align-items: center;background-color: white;padding-right: 0.2em;padding-left: 0.2em;position: relative;}#sk-container-id-3 div.sk-item {position: relative;z-index: 1;}#sk-container-id-3 div.sk-parallel {display: flex;align-items: stretch;justify-content: center;background-color: white;position: relative;}#sk-container-id-3 div.sk-item::before, #sk-container-id-3 div.sk-parallel-item::before {content: \"\";position: absolute;border-left: 1px solid gray;box-sizing: border-box;top: 0;bottom: 0;left: 50%;z-index: -1;}#sk-container-id-3 div.sk-parallel-item {display: flex;flex-direction: column;z-index: 1;position: relative;background-color: white;}#sk-container-id-3 div.sk-parallel-item:first-child::after {align-self: flex-end;width: 50%;}#sk-container-id-3 div.sk-parallel-item:last-child::after {align-self: flex-start;width: 50%;}#sk-container-id-3 div.sk-parallel-item:only-child::after {width: 0;}#sk-container-id-3 div.sk-dashed-wrapped {border: 1px dashed gray;margin: 0 0.4em 0.5em 0.4em;box-sizing: border-box;padding-bottom: 0.4em;background-color: white;}#sk-container-id-3 div.sk-label label {font-family: monospace;font-weight: bold;display: inline-block;line-height: 1.2em;}#sk-container-id-3 div.sk-label-container {text-align: center;}#sk-container-id-3 div.sk-container {/* jupyter's `normalize.less` sets `[hidden] { display: none; }` but bootstrap.min.css set `[hidden] { display: none !important; }` so we also need the `!important` here to be able to override the default hidden behavior on the sphinx rendered scikit-learn.org. See: https://github.com/scikit-learn/scikit-learn/issues/21755 */display: inline-block !important;position: relative;}#sk-container-id-3 div.sk-text-repr-fallback {display: none;}</style><div id=\"sk-container-id-3\" class=\"sk-top-container\"><div class=\"sk-text-repr-fallback\"><pre>LinearRegression()</pre><b>In a Jupyter environment, please rerun this cell to show the HTML representation or trust the notebook. <br />On GitHub, the HTML representation is unable to render, please try loading this page with nbviewer.org.</b></div><div class=\"sk-container\" hidden><div class=\"sk-item\"><div class=\"sk-estimator sk-toggleable\"><input class=\"sk-toggleable__control sk-hidden--visually\" id=\"sk-estimator-id-3\" type=\"checkbox\" checked><label for=\"sk-estimator-id-3\" class=\"sk-toggleable__label sk-toggleable__label-arrow\">LinearRegression</label><div class=\"sk-toggleable__content\"><pre>LinearRegression()</pre></div></div></div></div></div>"
      ],
      "text/plain": [
       "LinearRegression()"
      ]
     },
     "execution_count": 33,
     "metadata": {},
     "output_type": "execute_result"
    }
   ],
   "source": [
    "reg.fit(X_train, y_train)"
   ]
  },
  {
   "cell_type": "code",
   "execution_count": 34,
   "id": "800046df",
   "metadata": {},
   "outputs": [
    {
     "name": "stdout",
     "output_type": "stream",
     "text": [
      "[[0.26188776]] [0.35154796]\n"
     ]
    }
   ],
   "source": [
    "print(reg.coef_,m)"
   ]
  },
  {
   "cell_type": "code",
   "execution_count": 35,
   "id": "76eea790",
   "metadata": {},
   "outputs": [
    {
     "name": "stdout",
     "output_type": "stream",
     "text": [
      "[328.60141186] [9.7312315e-05]\n"
     ]
    }
   ],
   "source": [
    "print(reg.intercept_,c)"
   ]
  },
  {
   "cell_type": "code",
   "execution_count": 36,
   "id": "52f764ab",
   "metadata": {},
   "outputs": [
    {
     "name": "stdout",
     "output_type": "stream",
     "text": [
      "[[1586.18447752]\n",
      " [1314.08635911]\n",
      " [1497.94594041]\n",
      " [1327.79672941]\n",
      " [1468.41591206]\n",
      " [1260.29952175]\n",
      " [1330.60911307]\n",
      " [1251.15927487]\n",
      " [1270.14286453]\n",
      " [1399.86406052]\n",
      " [1210.37971191]\n",
      " [1403.73108804]\n",
      " [1279.63465936]\n",
      " [1479.31389871]\n",
      " [1347.13186703]\n",
      " [1362.59997712]\n",
      " [1229.36330157]\n",
      " [1218.46531491]\n",
      " [1088.04102301]\n",
      " [1555.24825734]\n",
      " [1363.30307303]\n",
      " [1422.36312974]\n",
      " [1337.28852424]\n",
      " [1304.24301632]\n",
      " [1668.79824732]\n",
      " [1554.89670938]\n",
      " [1418.84765018]\n",
      " [1413.92597878]\n",
      " [1214.24673943]\n",
      " [1467.71281614]\n",
      " [1331.31220898]\n",
      " [1334.47614059]\n",
      " [1442.40136327]\n",
      " [1462.79114475]\n",
      " [1461.73650088]\n",
      " [1340.80400381]\n",
      " [1239.90974026]\n",
      " [1317.60183867]\n",
      " [1172.06098464]\n",
      " [1227.60556178]\n",
      " [1392.83310139]\n",
      " [1232.17568522]\n",
      " [1516.92953007]\n",
      " [1337.28852424]\n",
      " [1358.02985368]\n",
      " [1418.14455426]\n",
      " [1514.46869437]\n",
      " [1112.64937997]\n",
      " [1279.98620732]\n",
      " [1281.04085119]\n",
      " [1367.87319647]\n",
      " [1333.42149672]\n",
      " [1501.10987202]\n",
      " [1428.339445  ]\n",
      " [1410.41049922]\n",
      " [1215.65293126]\n",
      " [1367.52164851]\n",
      " [1464.54888453]\n",
      " [1383.34130656]\n",
      " [1289.8295501 ]\n",
      " [1359.08449755]\n",
      " [1192.80231408]\n",
      " [1561.57612056]\n",
      " [1495.13355676]\n",
      " [1310.21933158]\n",
      " [1170.30324486]\n",
      " [1200.53636912]\n",
      " [1185.41980699]\n",
      " [1557.35754508]\n",
      " [1540.13169521]\n",
      " [1409.00430739]\n",
      " [1356.2721139 ]\n",
      " [1448.72922649]\n",
      " [1426.23015726]\n",
      " [1344.31948338]\n",
      " [1193.15386203]\n",
      " [1250.80772692]\n",
      " [1181.90432742]\n",
      " [1381.58356678]\n",
      " [1348.1865109 ]\n",
      " [1346.42877111]\n",
      " [1355.56901799]\n",
      " [1142.17940833]\n",
      " [1257.48713809]\n",
      " [1382.63821065]\n",
      " [1353.45973025]\n",
      " [1163.27228572]\n",
      " [1197.37243751]\n",
      " [1232.52723317]\n",
      " [1373.49796377]\n",
      " [1462.4395968 ]\n",
      " [1166.43621733]\n",
      " [1287.36871441]\n",
      " [1370.68558012]\n",
      " [1300.72753676]\n",
      " [1328.49982533]\n",
      " [1220.92615061]\n",
      " [1226.90246587]\n",
      " [1284.55633075]\n",
      " [1222.68389039]\n",
      " [1228.66020565]\n",
      " [1347.83496294]\n",
      " [1362.59997712]\n",
      " [1287.01716645]\n",
      " [1271.90060431]\n",
      " [1282.44704301]\n",
      " [1417.44145835]\n",
      " [1194.91160182]\n",
      " [1376.66189538]\n",
      " [1557.35754508]\n",
      " [1298.96979697]\n",
      " [1238.85509639]\n",
      " [1255.37785035]\n",
      " [1263.46345336]\n",
      " [1189.28683451]\n",
      " [1230.06639748]\n",
      " [1261.70571357]\n",
      " [1371.03712808]\n",
      " [1446.26839079]\n",
      " [1384.04440247]\n",
      " [1194.91160182]\n",
      " [1476.50151506]\n",
      " [1577.74732656]\n",
      " [1270.49441249]\n",
      " [1424.12086952]\n",
      " [1329.5544692 ]\n",
      " [1192.09921816]\n",
      " [1098.23591375]\n",
      " [1424.82396544]\n",
      " [1259.24487788]\n",
      " [1288.77490623]\n",
      " [1241.66748005]\n",
      " [1422.36312974]\n",
      " [1289.12645419]\n",
      " [1004.37260934]\n",
      " [1207.91887621]\n",
      " [1332.71840081]\n",
      " [1160.81145003]\n",
      " [1091.20495462]\n",
      " [1114.75866771]\n",
      " [1255.72939831]\n",
      " [1240.96438413]\n",
      " [1116.16485954]\n",
      " [1208.62197213]\n",
      " [1372.09177195]\n",
      " [1370.68558012]\n",
      " [1195.61469773]\n",
      " [1148.50727155]\n",
      " [1213.19209556]\n",
      " [1086.28328323]\n",
      " [1199.83327321]\n",
      " [1168.19395712]\n",
      " [1293.69657762]\n",
      " [1208.97352008]\n",
      " [1354.51437412]\n",
      " [1109.48544836]\n",
      " [1152.72584702]\n",
      " [1303.18837245]\n",
      " [1408.30121148]\n",
      " [1149.21036746]\n",
      " [1079.60387205]\n",
      " [1328.49982533]\n",
      " [1247.29224735]\n",
      " [1157.29597046]\n",
      " [1229.36330157]\n",
      " [1083.47089957]\n",
      " [1141.82786037]\n",
      " [1180.4981356 ]\n",
      " [1336.93697629]\n",
      " [1253.62011057]\n",
      " [1105.61842084]\n",
      " [1231.4725893 ]\n",
      " [1255.37785035]\n",
      " [1309.16468771]\n",
      " [1270.84596044]\n",
      " [1126.00820232]\n",
      " [1268.7366727 ]\n",
      " [1251.86237079]\n",
      " [1398.80941665]\n",
      " [1242.019028  ]\n",
      " [1296.86050923]\n",
      " [1110.18854428]\n",
      " [1407.94966352]\n",
      " [1118.27414728]\n",
      " [1223.03543835]\n",
      " [1280.33775527]\n",
      " [1276.82227571]\n",
      " [1078.90077614]\n",
      " [1193.15386203]\n",
      " [1301.78218063]\n",
      " [1112.64937997]\n",
      " [1179.09194377]\n",
      " [1054.64396713]\n",
      " [1296.15741332]\n",
      " [1250.104631  ]\n",
      " [ 974.84258098]\n",
      " [1075.03374861]\n",
      " [1175.5764642 ]\n",
      " [1227.95710974]\n",
      " [1159.05371024]\n",
      " [1181.20123151]\n",
      " [1134.79690124]\n",
      " [1152.02275111]\n",
      " [1353.8112782 ]\n",
      " [1078.19768022]\n",
      " [1297.9151531 ]\n",
      " [1195.96624569]\n",
      " [1404.43418396]\n",
      " [1166.43621733]\n",
      " [ 956.21053928]\n",
      " [1032.49644587]\n",
      " [1258.54178196]\n",
      " [1033.19954178]\n",
      " [1050.77693961]\n",
      " [1260.6510697 ]\n",
      " [1109.48544836]\n",
      " [1141.12476446]\n",
      " [1114.40711975]\n",
      " [1148.8588195 ]\n",
      " [1191.39612225]\n",
      " [1188.5837386 ]\n",
      " [1006.83344503]\n",
      " [1314.78945502]\n",
      " [1223.03543835]\n",
      " [1282.09549506]\n",
      " [1306.35230406]\n",
      " [1154.48358681]\n",
      " [1477.90770689]\n",
      " [1313.03171524]\n",
      " [1131.28142167]\n",
      " [1295.45431741]\n",
      " [1302.13372858]\n",
      " [1129.87522985]\n",
      " [1193.15386203]\n",
      " [1136.55464102]\n",
      " [1178.38884786]\n",
      " [1192.09921816]]\n"
     ]
    }
   ],
   "source": [
    "def calc(slope, intercept, hours):\n",
    "    return slope*hours+intercept\n",
    "\n",
    "score = calc(m,c,X)\n",
    "print(score) "
   ]
  },
  {
   "cell_type": "code",
   "execution_count": 37,
   "id": "54675179",
   "metadata": {},
   "outputs": [
    {
     "name": "stdout",
     "output_type": "stream",
     "text": [
      "     Actual    Predicted\n",
      "0      1530  1586.184478\n",
      "1      1297  1314.086359\n",
      "2      1335  1497.945940\n",
      "3      1282  1327.796729\n",
      "4      1590  1468.415912\n",
      "..      ...          ...\n",
      "232    1110  1129.875230\n",
      "233    1215  1193.153862\n",
      "234    1104  1136.554641\n",
      "235    1170  1178.388848\n",
      "236    1120  1192.099218\n",
      "\n",
      "[237 rows x 2 columns]\n"
     ]
    }
   ],
   "source": [
    "df_preds = pd.DataFrame({'Actual': Y.squeeze(), 'Predicted': y_pred.squeeze()})\n",
    "print(df_preds)"
   ]
  },
  {
   "cell_type": "code",
   "execution_count": 38,
   "id": "1c70b83e",
   "metadata": {},
   "outputs": [
    {
     "name": "stdout",
     "output_type": "stream",
     "text": [
      "Mean squared error: 6261.61\n",
      "Root mean squared error: 79.13\n"
     ]
    }
   ],
   "source": [
    "from sklearn.metrics import mean_absolute_error, mean_squared_error,accuracy_score\n",
    "mse = mean_squared_error(Y,y_pred)\n",
    "rmse = np.sqrt(mse)\n",
    "print(f'Mean squared error: {mse:.2f}')\n",
    "print(f'Root mean squared error: {rmse:.2f}')"
   ]
  },
  {
   "cell_type": "code",
   "execution_count": 39,
   "id": "e05d206a",
   "metadata": {},
   "outputs": [
    {
     "data": {
      "text/plain": [
       "[<matplotlib.lines.Line2D at 0x18735afd0f0>]"
      ]
     },
     "execution_count": 39,
     "metadata": {},
     "output_type": "execute_result"
    },
    {
     "data": {
      "image/png": "[encoded data removed]",
      "text/plain": [
       "<Figure size 640x480 with 1 Axes>"
      ]
     },
     "metadata": {},
     "output_type": "display_data"
    }
   ],
   "source": [
    "plt.scatter(X,Y)\n",
    "plt.plot(X,y_pred,color='r')"
   ]
  },
  {
   "cell_type": "code",
   "execution_count": null,
   "id": "2ed51e78",
   "metadata": {},
   "outputs": [],
   "source": []
  },
  {
   "cell_type": "code",
   "execution_count": null,
   "id": "6f599a73",
   "metadata": {},
   "outputs": [],
   "source": []
  }
 ],
 "metadata": {
  "kernelspec": {
   "display_name": "Python 3 (ipykernel)",
   "language": "python",
   "name": "python3"
  },
  "language_info": {
   "codemirror_mode": {
    "name": "ipython",
    "version": 3
   },
   "file_extension": ".py",
   "mimetype": "text/x-python",
   "name": "python",
   "nbconvert_exporter": "python",
   "pygments_lexer": "ipython3",
   "version": "3.10.6"
  }
 },
 "nbformat": 4,
 "nbformat_minor": 5
}
